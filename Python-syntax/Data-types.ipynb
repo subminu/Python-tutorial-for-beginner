{
 "cells": [
  {
   "cell_type": "markdown",
   "metadata": {},
   "source": [
    "# Data types\n",
    "저번에는 variable이란 무엇이며, 어떻게 생성하는지를 알아보았습니다. 이번에는 어떠한 data type이 있는지, 왜 data type이 필요한지를 살펴보도록 하겠습니다."
   ]
  },
  {
   "cell_type": "markdown",
   "metadata": {},
   "source": [
    "| Type       | Statement                            |\n",
    "| :-------   | :---------------------------------   |\n",
    "| Text       | `str`                                |\n",
    "| Numeric    | `int`, `float`, `complex`            |\n",
    "| Boolean    | `bool`                               |\n",
    "| Sequence   | `list`, `tuple`, `range`             |\n",
    "| Mapping    | `dict`                               |\n",
    "| Set        | `set`, `frozenset`                   |\n",
    "| Binary     | `bytes`, `bytearray`, `memoryview`   |"
   ]
  },
  {
   "cell_type": "markdown",
   "metadata": {},
   "source": [
    "> Tip👀<br/><br/>\n",
    "> 이번에 알아볼 Data type들은 `text`, `numeric`, `boolean`까지이니 나머지 type들은 아 그냥 저런게 있나보다 하고 넘어가주세요!"
   ]
  },
  {
   "cell_type": "markdown",
   "metadata": {},
   "source": [
    "## Text\n",
    "일반적으로 생각하는 문자, 문자열(string)을 말합니다. python에서 \"\"또는 ''로 둘러쌓인 것들 모두를 Text type으로 볼 수 있습니다."
   ]
  },
  {
   "cell_type": "code",
   "execution_count": 6,
   "metadata": {},
   "outputs": [
    {
     "name": "stdout",
     "output_type": "stream",
     "text": [
      "안녕하세요 123 python\n"
     ]
    }
   ],
   "source": [
    "a = \"안녕하세요\"\n",
    "b = '123'\n",
    "c = \"python\"\n",
    "print(a,b,c)"
   ]
  },
  {
   "cell_type": "markdown",
   "metadata": {},
   "source": [
    "## Numeric\n",
    "일반적으로 생각하는 숫자들에 해당됩니다. 여기서 세부적으로 정수의 경우 `int`(integer), 실수의 경우 `float`, 복소수의 경우 `complex`로 나뉩니다.\n",
    "\n",
    "`complex`의 경우 허수단위를 **i**가 아닌 **j** 혹은 **J**로 사용합니다."
   ]
  },
  {
   "cell_type": "code",
   "execution_count": 10,
   "metadata": {},
   "outputs": [
    {
     "name": "stdout",
     "output_type": "stream",
     "text": [
      "1 2.5 (1+3j)\n"
     ]
    }
   ],
   "source": [
    "a = 1\n",
    "b = 2.5\n",
    "c = 1+3j\n",
    "print(a,b,c)"
   ]
  },
  {
   "cell_type": "markdown",
   "metadata": {},
   "source": [
    "## Boolean\n",
    "이 type같은 경우 `True`와 `False`에만 해당됩니다.(소문자로 적으면 interpreter가 boolean값으로 판단하지 않습니다!)"
   ]
  },
  {
   "cell_type": "code",
   "execution_count": 12,
   "metadata": {},
   "outputs": [
    {
     "name": "stdout",
     "output_type": "stream",
     "text": [
      "True False\n"
     ]
    }
   ],
   "source": [
    "a = True\n",
    "b = False\n",
    "print(a,b)"
   ]
  },
  {
   "cell_type": "code",
   "execution_count": 14,
   "metadata": {},
   "outputs": [
    {
     "ename": "NameError",
     "evalue": "name 'true' is not defined",
     "output_type": "error",
     "traceback": [
      "\u001b[1;31m---------------------------------------------------------------------------\u001b[0m",
      "\u001b[1;31mNameError\u001b[0m                                 Traceback (most recent call last)",
      "\u001b[1;32m<ipython-input-14-3aec30da9bd0>\u001b[0m in \u001b[0;36m<module>\u001b[1;34m\u001b[0m\n\u001b[1;32m----> 1\u001b[1;33m \u001b[0mc\u001b[0m \u001b[1;33m=\u001b[0m \u001b[0mtrue\u001b[0m \u001b[1;31m# 소문자로 적으면 안됩니다!\u001b[0m\u001b[1;33m\u001b[0m\u001b[1;33m\u001b[0m\u001b[0m\n\u001b[0m\u001b[0;32m      2\u001b[0m \u001b[0mprint\u001b[0m\u001b[1;33m(\u001b[0m\u001b[0ma\u001b[0m\u001b[1;33m)\u001b[0m\u001b[1;33m\u001b[0m\u001b[1;33m\u001b[0m\u001b[0m\n",
      "\u001b[1;31mNameError\u001b[0m: name 'true' is not defined"
     ]
    }
   ],
   "source": [
    "c = true # 소문자로 적으면 안됩니다!\n",
    "print(a)"
   ]
  },
  {
   "cell_type": "markdown",
   "metadata": {},
   "source": [
    "## Why data types are important\n",
    "사실 이 이야기는 Python에만 국한되는 이야기가 아니라 다른 언어에서도 적용되는 이야기 입니다. 그러나 Python에서는 type에 대한 특별한 mention을 하지 않는 경우가 대부분이기 때문에 왜 중요한 것인지 느끼지 못할 때가 많습니다. 그럼에도 불구하고 필요한 이유를 꼽자면 다음과 같습니다.\n",
    "\n",
    "- data type을 설정해 놓으면 memory 낭비를 줄여줍니다.\n",
    "- 각 data type끼리 연산하는 방식을 따로 정의할 수 있습니다.\n",
    "- 다른 사람들과의 코드를 공유할 때, 자신이 나중에 코드를 다시 볼 때, 이해하기 수월합니다.(이는 나중에 function과 함께 설명하도록 하겠습니다.)\n",
    "\n",
    "### memory 낭비?\n",
    "C/C++같은 경우 메모리에 직접 접근할 수있지만 Python의 경우 \"Python memory manager\"에 의해 내부적으로 자동 관리되어 집니다. 그렇기 때문에 일반 사용자가 Python에서 메모리에 직접 접근하는 일이 없어 이해가 되지 않으실 겁니다. 간단히 설명하자면, data type을 제대로 mention하면 전체 100의 공간에서 10의 공간을 사용하겠다고 해놓고 2의 공간만 사용하여 8의 공간을 낭비하는 일이 없어진다는 것입니다.\n",
    "\n",
    ">Tip👀 <br/><br/>\n",
    "Python과 다르게 C/C++은 엄격하게 data type을 mention하도록 되어 있으며 data type또한 python보다 훨씬 많습니다. [C의 정수 자료형](https://github.com/paxbun/c-cpp-tutorial/tree/master/4-types-and-variables#c%EC%9D%98-%EC%A0%95%EC%88%98-%EC%9E%90%EB%A3%8C%ED%98%95)만 하더라도 얼마나 엄격하게 다루고 있는지 알 수 있습니다.\n",
    "\n",
    "### data type끼리의 연산?\n",
    "상식적으로 3+5가 8임을 잘 알고 있을 것입니다."
   ]
  },
  {
   "cell_type": "code",
   "execution_count": 22,
   "metadata": {},
   "outputs": [
    {
     "name": "stdout",
     "output_type": "stream",
     "text": [
      "8\n",
      "3.5\n",
      "(3+7j)\n"
     ]
    }
   ],
   "source": [
    "# int\n",
    "print(3+5)\n",
    "\n",
    "#float\n",
    "print(1.2+2.3)\n",
    "\n",
    "# complex\n",
    "a = 1+5j\n",
    "b = 2+2j\n",
    "print(a+b) "
   ]
  },
  {
   "cell_type": "markdown",
   "metadata": {},
   "source": [
    "위를 보면 알 수 있듯이, 일반적인 수학지식에서 벗어나지 않습니다.\n",
    "\n",
    "그렇다면 \"3\" + \"5\"의 값은 무엇일까요?"
   ]
  },
  {
   "cell_type": "code",
   "execution_count": 20,
   "metadata": {},
   "outputs": [
    {
     "name": "stdout",
     "output_type": "stream",
     "text": [
      "35\n"
     ]
    }
   ],
   "source": [
    "print(\"3\"+\"5\") # \"8\"이 나올까?"
   ]
  },
  {
   "cell_type": "markdown",
   "metadata": {},
   "source": [
    "\"8\"이 나오는게 아니라 \"35\"가 나오게 됩니다. 상식적으로 이해하기 힘들 수 있습니다. 하지만 다음의 예를 한 번 봅시다. "
   ]
  },
  {
   "cell_type": "code",
   "execution_count": 21,
   "metadata": {},
   "outputs": [
    {
     "name": "stdout",
     "output_type": "stream",
     "text": [
      "My name is Python\n"
     ]
    }
   ],
   "source": [
    "print(\"My name is \"+\"Python\") # 왠지 \"My name is Python\"이 나올것 같다."
   ]
  },
  {
   "cell_type": "markdown",
   "metadata": {},
   "source": [
    "문자열끼리의 연산은 숫자처럼 더해지는게 아니라 어어 붙여진다는 사실을 알 수 있었습니다. 이처럼 python은 사용자가 일반적으로 생각할 수 있는 연산 결과를 보여줄 수 있도록 사전에 자료형을 정의 하였습니다.(C/C++의 경우는 조금 다르지만요..)\n",
    "\n",
    "> Tip👀 <br/><br/>\n",
    " Python에서는 사용자 입맛대로 data type을 만들고 어떻게 연산 할 것인지 정의 할 수 있습니다!(어떻게 정의하는 지는 class/object에서 배울 수 있습니다!💻)\n",
    "\n",
    "여기까지가 Data type입니다. 예시들을 보시면 아직 배우지 않은(?) +를 예시에서 사용했었는데요, 잠깐 언급하자면 +,-,\\*,/와 같은 사칙연산에 쓰이는 것을 **연산자**라고 부릅니다. python에는 다양한 연산자가 존재합니다. 다음에는 어떠한 연산자가 있고 어떻게 쓰이는지 알아보도록 합시다.\n",
    "\n",
    "[Next-Operators](./Operators.ipynb)"
   ]
  }
 ],
 "metadata": {
  "kernelspec": {
   "display_name": "Python 3",
   "language": "python",
   "name": "python3"
  },
  "language_info": {
   "codemirror_mode": {
    "name": "ipython",
    "version": 3
   },
   "file_extension": ".py",
   "mimetype": "text/x-python",
   "name": "python",
   "nbconvert_exporter": "python",
   "pygments_lexer": "ipython3",
   "version": "3.7.6"
  }
 },
 "nbformat": 4,
 "nbformat_minor": 4
}
