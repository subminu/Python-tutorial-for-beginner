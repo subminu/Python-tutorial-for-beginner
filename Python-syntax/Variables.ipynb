{
 "cells": [
  {
   "cell_type": "markdown",
   "metadata": {},
   "source": [
    "# Variables\n",
    "Python에서 variables는 변할 수 있는 값들을 저장하는 공간이라고 생각하면 편합니다. Python에서는 **어떠한 값**이더라도 variable에 저장할 수 있습니다.(type을 꼭 지정해줘야 하는 C/C++과는 다르게 말이죠.)\n",
    "\n",
    "그렇다면 어떻게 variables를 생성할 수 있을까요?"
   ]
  },
  {
   "cell_type": "code",
   "execution_count": 1,
   "metadata": {},
   "outputs": [],
   "source": [
    "x = 3\n",
    "y = \"hello, world!\""
   ]
  },
  {
   "cell_type": "markdown",
   "metadata": {},
   "source": [
    "위와 같이 =연산자를 통해 variable이라는 공간에 값을 할당해 줍니다. 여기서 주의 해야할 것은 =은 절대 같다는 뜻이 아닙니다. <br/>\n",
    "(변수) = (값)의 형태로 (변수)에 (값)을 대입한다는 뜻으로 **할당 연산자(Assignment Operators)**라고 불립니다."
   ]
  },
  {
   "cell_type": "code",
   "execution_count": 2,
   "metadata": {},
   "outputs": [
    {
     "name": "stdout",
     "output_type": "stream",
     "text": [
      "3\n",
      "hello, world!\n"
     ]
    }
   ],
   "source": [
    "print(x)\n",
    "print(y)"
   ]
  },
  {
   "cell_type": "markdown",
   "metadata": {},
   "source": [
    "> Tip👀 <br/><br/>\n",
    "> Jupyter notebook에서 cell끼리 변수가 공유됩니다! 그렇기 때문에 다른 cell이더라도 같은 변수명으로 덮어쓰는 실수를 조심해주세요..!"
   ]
  },
  {
   "cell_type": "markdown",
   "metadata": {},
   "source": [
    "# Variables Names\n",
    "위에 사용하였던 x,y같이 각각에 이름이 있습니다. 이름을 자유롭게 지어도 되지만, Python에서는 몇가지 룰이 있습니다.\n",
    "1. 변수의 첫 글자는 무조건 문자 혹은 \"_\"로 시작한다.\n",
    "2. 변수의 첫 글자는 숫자로 시작할 수 없다.\n",
    "3. 변수는 알파벳과 숫자, \"_\"로만 이루어져야 한다.\n",
    "4. 변수는 소문자와 대문자를 구별한다."
   ]
  },
  {
   "cell_type": "markdown",
   "metadata": {},
   "source": [
    "예시를 들어보자면 다음과 같습니다."
   ]
  },
  {
   "cell_type": "code",
   "execution_count": 10,
   "metadata": {},
   "outputs": [],
   "source": [
    "# 적절한 예\n",
    "first_var = 1\n",
    "var = 1\n",
    "var2 = 2\n",
    "student_number = 1\n",
    "VAR = 3"
   ]
  },
  {
   "cell_type": "code",
   "execution_count": 11,
   "metadata": {},
   "outputs": [
    {
     "name": "stdout",
     "output_type": "stream",
     "text": [
      "1\n",
      "2\n",
      "3\n"
     ]
    }
   ],
   "source": [
    "print(var)\n",
    "print(var2)\n",
    "print(VAR)"
   ]
  },
  {
   "cell_type": "code",
   "execution_count": 6,
   "metadata": {
    "scrolled": false
   },
   "outputs": [
    {
     "ename": "SyntaxError",
     "evalue": "invalid syntax (<ipython-input-6-fa36ded2f939>, line 2)",
     "output_type": "error",
     "traceback": [
      "\u001b[1;36m  File \u001b[1;32m\"<ipython-input-6-fa36ded2f939>\"\u001b[1;36m, line \u001b[1;32m2\u001b[0m\n\u001b[1;33m    1st_var = 1\u001b[0m\n\u001b[1;37m          ^\u001b[0m\n\u001b[1;31mSyntaxError\u001b[0m\u001b[1;31m:\u001b[0m invalid syntax\n"
     ]
    }
   ],
   "source": [
    "# 부적절한 예\n",
    "1st_var = 1\n",
    "변수 = 1\n",
    "student number = 1\n",
    "student-number = 1"
   ]
  },
  {
   "cell_type": "markdown",
   "metadata": {},
   "source": [
    "# Assign values to multiple variables\n",
    "만약에 여러개의 변수들에게 여러개의 값들을 동시에 할당하고 싶을때, 일일이 한 줄씩 적어야 할까요?\n",
    "그렇게 할 필요 없이 다음과 같이 하면 동시에 값을 할당할 수 있습니다."
   ]
  },
  {
   "cell_type": "code",
   "execution_count": 9,
   "metadata": {},
   "outputs": [
    {
     "name": "stdout",
     "output_type": "stream",
     "text": [
      "1 2 3\n"
     ]
    }
   ],
   "source": [
    "x, y, z = 1, 2, 3\n",
    "print(x, y, z)"
   ]
  },
  {
   "cell_type": "markdown",
   "metadata": {},
   "source": [
    "> Tip👀 <br/><br/>\n",
    "> 사실 tuple packing/unpacking과 관련된 이야기지만.. 직관적으로 이해가 될 것이라 생각하여 넣어두었습니다!"
   ]
  },
  {
   "cell_type": "markdown",
   "metadata": {},
   "source": [
    "같은 값들을 여러 variables에 넣는 것도 가능합니다!"
   ]
  },
  {
   "cell_type": "code",
   "execution_count": 12,
   "metadata": {},
   "outputs": [],
   "source": [
    "x = y = z = \"hello, world!\""
   ]
  },
  {
   "cell_type": "code",
   "execution_count": 14,
   "metadata": {},
   "outputs": [
    {
     "name": "stdout",
     "output_type": "stream",
     "text": [
      "hello, world!\n",
      "hello, world!\n",
      "hello, world!\n"
     ]
    }
   ],
   "source": [
    "print(x)\n",
    "print(y)\n",
    "print(z)"
   ]
  },
  {
   "cell_type": "markdown",
   "metadata": {},
   "source": [
    "변수에는 무엇이든 담을 수 있지만, python에서 기본적으로 여러 data type들을 만들어 놓았습니다. 왜 굳이 만들었는지, 어떠한 data type들이 있는지 알아보록 합시다. <br/>\n",
    "[Next-Data Types](./Data-types.ipynb)"
   ]
  }
 ],
 "metadata": {
  "kernelspec": {
   "display_name": "Python 3",
   "language": "python",
   "name": "python3"
  },
  "language_info": {
   "codemirror_mode": {
    "name": "ipython",
    "version": 3
   },
   "file_extension": ".py",
   "mimetype": "text/x-python",
   "name": "python",
   "nbconvert_exporter": "python",
   "pygments_lexer": "ipython3",
   "version": "3.7.6"
  }
 },
 "nbformat": 4,
 "nbformat_minor": 4
}
